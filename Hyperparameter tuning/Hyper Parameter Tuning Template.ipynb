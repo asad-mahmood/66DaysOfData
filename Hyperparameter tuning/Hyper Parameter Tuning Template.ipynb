{
 "cells": [
  {
   "cell_type": "markdown",
   "metadata": {},
   "source": [
    "# <center>Hyperparameter Tuning</center><br>\n",
    "<img src = \"https://miro.medium.com/max/1005/1*qv2Su1gKmUJxpfG8lt2Jmw.png\"></img><br>\n",
    "#### <div align='right'>Made by: **Asad Mahmood</div>**"
   ]
  },
  {
   "cell_type": "code",
   "execution_count": 64,
   "metadata": {},
   "outputs": [],
   "source": [
    "import pandas as pd\n",
    "import numpy as np\n",
    "\n",
    "from sklearn import ensemble # Access RandomForestClassifier and other ensemble classifers\n",
    "from sklearn import metrics  # Access different metrics like confusion matrices, accuracy, etc.\n",
    "from sklearn import model_selection \n",
    "from sklearn.model_selection import train_test_split\n",
    "from sklearn import preprocessing\n",
    "from sklearn import decomposition\n",
    "from sklearn import pipeline\n",
    "\n",
    "\n",
    "from functools import partial\n",
    "from skopt import space\n",
    "from skopt import gp_minimize\n",
    "\n",
    "from hyperopt import hp, fmin, tpe, Trials\n",
    "from hyperopt.pyll.base import scope\n",
    "\n",
    "import optuna"
   ]
  },
  {
   "cell_type": "markdown",
   "metadata": {},
   "source": [
    "<a id=\"toc\"></a>\n",
    "\n",
    "<div class=\"list-group\" id=\"list-tab\" role=\"tablist\">\n",
    "<h2 class=\"list-group-item list-group-item-action active\" data-toggle=\"list\" style='background:black; border:0' role=\"tab\" aria-controls=\"home\"><center>Table of Contents</center></h2>\n",
    "\n",
    "1. [Objective](#Obj)\n",
    "2. [Data Preprocessing and Perparation](#Data)\n",
    "2. [Different ways to do Hyper-parameter tuning](#Hyp)\n",
    "    1. Grid Search CV\n",
    "    2. Random Search\n",
    "    3. Bayseian Optimization with Gaussian Process\n",
    "    4. HyperOpt"
   ]
  },
  {
   "cell_type": "markdown",
   "metadata": {},
   "source": [
    "<a name=\"Obj\"></a>\n",
    "\n",
    "<div class=\"list-group\" id=\"list-tab\" role=\"tablist\">\n",
    "<h3 class=\"list-group-item list-group-item-action active\" data-toggle=\"list\" style='background:black; border:0' role=\"tab\" aria-controls=\"home\"><center>Objective</center></h3>"
   ]
  },
  {
   "cell_type": "markdown",
   "metadata": {},
   "source": [
    "This is a template notebook that shows how to do hyper-parameter tuning using different methods. It is using an example dataset provided on kaggle titled as [Mobile Price Classification](#https://www.kaggle.com/iabhishekofficial/mobile-price-classification).\n",
    "\n",
    "This data set is about a guy named Bob who has started his own mobile company. He wants to give tough fight to big companies like Apple,Samsung etc. I like this dataset because it has evenly distributed labels and in this scenario will work perfectly."
   ]
  },
  {
   "cell_type": "markdown",
   "metadata": {},
   "source": [
    "<a name=\"Data\"></a>\n",
    "\n",
    "<div class=\"list-group\" id=\"list-tab\" role=\"tablist\">\n",
    "<h3 class=\"list-group-item list-group-item-action active\" data-toggle=\"list\" style='background:black; border:0' role=\"tab\" aria-controls=\"home\"><center>Data Preprocessing and Preparation</center></h3>"
   ]
  },
  {
   "cell_type": "markdown",
   "metadata": {},
   "source": [
    "#### Reading in Data"
   ]
  },
  {
   "cell_type": "code",
   "execution_count": 2,
   "metadata": {},
   "outputs": [],
   "source": [
    "df = pd.read_csv('mobile_price_data.csv')"
   ]
  },
  {
   "cell_type": "markdown",
   "metadata": {},
   "source": [
    "#### Test Train Split"
   ]
  },
  {
   "cell_type": "code",
   "execution_count": 3,
   "metadata": {},
   "outputs": [],
   "source": [
    "X = df.drop('price_range', axis = 1).values\n",
    "y = df.price_range.values\n",
    "\n",
    "X_train, X_test, y_train, y_test = train_test_split(X, y, test_size=0.2)"
   ]
  },
  {
   "cell_type": "markdown",
   "metadata": {},
   "source": [
    "<div class=\"list-group\" id=\"list-tab\" role=\"tablist\">\n",
    "<h4 class=\"list-group-item list-group-item-action active\" data-toggle=\"list\" style='background:gray; border:0' role=\"tab\" aria-controls=\"home\"><center>Grid Search</center></h4>"
   ]
  },
  {
   "cell_type": "code",
   "execution_count": 4,
   "metadata": {
    "scrolled": true
   },
   "outputs": [
    {
     "name": "stdout",
     "output_type": "stream",
     "text": [
      "Fitting 5 folds for each of 32 candidates, totalling 160 fits\n",
      "[CV] criterion=gini, max_depth=1, n_estimators=100 ...................\n"
     ]
    },
    {
     "name": "stderr",
     "output_type": "stream",
     "text": [
      "[Parallel(n_jobs=1)]: Using backend SequentialBackend with 1 concurrent workers.\n"
     ]
    },
    {
     "name": "stdout",
     "output_type": "stream",
     "text": [
      "[CV]  criterion=gini, max_depth=1, n_estimators=100, score=0.647, total=   3.8s\n",
      "[CV] criterion=gini, max_depth=1, n_estimators=100 ...................\n",
      "[CV]  criterion=gini, max_depth=1, n_estimators=100, score=0.566, total=   0.2s\n",
      "[CV] criterion=gini, max_depth=1, n_estimators=100 ...................\n"
     ]
    },
    {
     "name": "stderr",
     "output_type": "stream",
     "text": [
      "[Parallel(n_jobs=1)]: Done   1 out of   1 | elapsed:    3.7s remaining:    0.0s\n",
      "[Parallel(n_jobs=1)]: Done   2 out of   2 | elapsed:    3.9s remaining:    0.0s\n"
     ]
    },
    {
     "name": "stdout",
     "output_type": "stream",
     "text": [
      "[CV]  criterion=gini, max_depth=1, n_estimators=100, score=0.556, total=   0.1s\n",
      "[CV] criterion=gini, max_depth=1, n_estimators=100 ...................\n",
      "[CV]  criterion=gini, max_depth=1, n_estimators=100, score=0.553, total=   0.2s\n",
      "[CV] criterion=gini, max_depth=1, n_estimators=100 ...................\n"
     ]
    },
    {
     "name": "stderr",
     "output_type": "stream",
     "text": [
      "[Parallel(n_jobs=1)]: Done   3 out of   3 | elapsed:    4.0s remaining:    0.0s\n",
      "[Parallel(n_jobs=1)]: Done   4 out of   4 | elapsed:    4.2s remaining:    0.0s\n"
     ]
    },
    {
     "name": "stdout",
     "output_type": "stream",
     "text": [
      "[CV]  criterion=gini, max_depth=1, n_estimators=100, score=0.622, total=   0.2s\n",
      "[CV] criterion=gini, max_depth=1, n_estimators=200 ...................\n"
     ]
    },
    {
     "name": "stderr",
     "output_type": "stream",
     "text": [
      "[Parallel(n_jobs=1)]: Done   5 out of   5 | elapsed:    4.4s remaining:    0.0s\n"
     ]
    },
    {
     "name": "stdout",
     "output_type": "stream",
     "text": [
      "[CV]  criterion=gini, max_depth=1, n_estimators=200, score=0.572, total=   0.3s\n",
      "[CV] criterion=gini, max_depth=1, n_estimators=200 ...................\n"
     ]
    },
    {
     "name": "stderr",
     "output_type": "stream",
     "text": [
      "[Parallel(n_jobs=1)]: Done   6 out of   6 | elapsed:    4.8s remaining:    0.0s\n"
     ]
    },
    {
     "name": "stdout",
     "output_type": "stream",
     "text": [
      "[CV]  criterion=gini, max_depth=1, n_estimators=200, score=0.544, total=   0.3s\n",
      "[CV] criterion=gini, max_depth=1, n_estimators=200 ...................\n"
     ]
    },
    {
     "name": "stderr",
     "output_type": "stream",
     "text": [
      "[Parallel(n_jobs=1)]: Done   7 out of   7 | elapsed:    5.1s remaining:    0.0s\n"
     ]
    },
    {
     "name": "stdout",
     "output_type": "stream",
     "text": [
      "[CV]  criterion=gini, max_depth=1, n_estimators=200, score=0.616, total=   0.3s\n",
      "[CV] criterion=gini, max_depth=1, n_estimators=200 ...................\n"
     ]
    },
    {
     "name": "stderr",
     "output_type": "stream",
     "text": [
      "[Parallel(n_jobs=1)]: Done   8 out of   8 | elapsed:    5.4s remaining:    0.0s\n"
     ]
    },
    {
     "name": "stdout",
     "output_type": "stream",
     "text": [
      "[CV]  criterion=gini, max_depth=1, n_estimators=200, score=0.603, total=   0.3s\n",
      "[CV] criterion=gini, max_depth=1, n_estimators=200 ...................\n"
     ]
    },
    {
     "name": "stderr",
     "output_type": "stream",
     "text": [
      "[Parallel(n_jobs=1)]: Done   9 out of   9 | elapsed:    5.6s remaining:    0.0s\n"
     ]
    },
    {
     "name": "stdout",
     "output_type": "stream",
     "text": [
      "[CV]  criterion=gini, max_depth=1, n_estimators=200, score=0.628, total=   0.3s\n",
      "[CV] criterion=gini, max_depth=1, n_estimators=300 ...................\n",
      "[CV]  criterion=gini, max_depth=1, n_estimators=300, score=0.625, total=   0.4s\n",
      "[CV] criterion=gini, max_depth=1, n_estimators=300 ...................\n",
      "[CV]  criterion=gini, max_depth=1, n_estimators=300, score=0.578, total=   0.4s\n",
      "[CV] criterion=gini, max_depth=1, n_estimators=300 ...................\n",
      "[CV]  criterion=gini, max_depth=1, n_estimators=300, score=0.591, total=   0.4s\n",
      "[CV] criterion=gini, max_depth=1, n_estimators=300 ...................\n",
      "[CV]  criterion=gini, max_depth=1, n_estimators=300, score=0.588, total=   0.4s\n",
      "[CV] criterion=gini, max_depth=1, n_estimators=300 ...................\n",
      "[CV]  criterion=gini, max_depth=1, n_estimators=300, score=0.619, total=   0.4s\n",
      "[CV] criterion=gini, max_depth=1, n_estimators=400 ...................\n",
      "[CV]  criterion=gini, max_depth=1, n_estimators=400, score=0.597, total=   0.5s\n",
      "[CV] criterion=gini, max_depth=1, n_estimators=400 ...................\n",
      "[CV]  criterion=gini, max_depth=1, n_estimators=400, score=0.559, total=   0.8s\n",
      "[CV] criterion=gini, max_depth=1, n_estimators=400 ...................\n",
      "[CV]  criterion=gini, max_depth=1, n_estimators=400, score=0.588, total=   0.7s\n",
      "[CV] criterion=gini, max_depth=1, n_estimators=400 ...................\n",
      "[CV]  criterion=gini, max_depth=1, n_estimators=400, score=0.606, total=   0.7s\n",
      "[CV] criterion=gini, max_depth=1, n_estimators=400 ...................\n",
      "[CV]  criterion=gini, max_depth=1, n_estimators=400, score=0.606, total=   0.8s\n",
      "[CV] criterion=gini, max_depth=3, n_estimators=100 ...................\n",
      "[CV]  criterion=gini, max_depth=3, n_estimators=100, score=0.806, total=   0.2s\n",
      "[CV] criterion=gini, max_depth=3, n_estimators=100 ...................\n",
      "[CV]  criterion=gini, max_depth=3, n_estimators=100, score=0.772, total=   0.2s\n",
      "[CV] criterion=gini, max_depth=3, n_estimators=100 ...................\n",
      "[CV]  criterion=gini, max_depth=3, n_estimators=100, score=0.759, total=   0.2s\n",
      "[CV] criterion=gini, max_depth=3, n_estimators=100 ...................\n",
      "[CV]  criterion=gini, max_depth=3, n_estimators=100, score=0.791, total=   0.2s\n",
      "[CV] criterion=gini, max_depth=3, n_estimators=100 ...................\n",
      "[CV]  criterion=gini, max_depth=3, n_estimators=100, score=0.809, total=   0.2s\n",
      "[CV] criterion=gini, max_depth=3, n_estimators=200 ...................\n",
      "[CV]  criterion=gini, max_depth=3, n_estimators=200, score=0.803, total=   0.4s\n",
      "[CV] criterion=gini, max_depth=3, n_estimators=200 ...................\n",
      "[CV]  criterion=gini, max_depth=3, n_estimators=200, score=0.803, total=   0.3s\n",
      "[CV] criterion=gini, max_depth=3, n_estimators=200 ...................\n",
      "[CV]  criterion=gini, max_depth=3, n_estimators=200, score=0.816, total=   0.3s\n",
      "[CV] criterion=gini, max_depth=3, n_estimators=200 ...................\n",
      "[CV]  criterion=gini, max_depth=3, n_estimators=200, score=0.806, total=   0.3s\n",
      "[CV] criterion=gini, max_depth=3, n_estimators=200 ...................\n",
      "[CV]  criterion=gini, max_depth=3, n_estimators=200, score=0.803, total=   0.3s\n",
      "[CV] criterion=gini, max_depth=3, n_estimators=300 ...................\n",
      "[CV]  criterion=gini, max_depth=3, n_estimators=300, score=0.819, total=   0.4s\n",
      "[CV] criterion=gini, max_depth=3, n_estimators=300 ...................\n",
      "[CV]  criterion=gini, max_depth=3, n_estimators=300, score=0.784, total=   0.5s\n",
      "[CV] criterion=gini, max_depth=3, n_estimators=300 ...................\n",
      "[CV]  criterion=gini, max_depth=3, n_estimators=300, score=0.847, total=   0.4s\n",
      "[CV] criterion=gini, max_depth=3, n_estimators=300 ...................\n",
      "[CV]  criterion=gini, max_depth=3, n_estimators=300, score=0.809, total=   0.4s\n",
      "[CV] criterion=gini, max_depth=3, n_estimators=300 ...................\n",
      "[CV]  criterion=gini, max_depth=3, n_estimators=300, score=0.812, total=   0.4s\n",
      "[CV] criterion=gini, max_depth=3, n_estimators=400 ...................\n",
      "[CV]  criterion=gini, max_depth=3, n_estimators=400, score=0.831, total=   0.6s\n",
      "[CV] criterion=gini, max_depth=3, n_estimators=400 ...................\n",
      "[CV]  criterion=gini, max_depth=3, n_estimators=400, score=0.797, total=   0.5s\n",
      "[CV] criterion=gini, max_depth=3, n_estimators=400 ...................\n",
      "[CV]  criterion=gini, max_depth=3, n_estimators=400, score=0.825, total=   0.6s\n",
      "[CV] criterion=gini, max_depth=3, n_estimators=400 ...................\n",
      "[CV]  criterion=gini, max_depth=3, n_estimators=400, score=0.806, total=   0.5s\n",
      "[CV] criterion=gini, max_depth=3, n_estimators=400 ...................\n",
      "[CV]  criterion=gini, max_depth=3, n_estimators=400, score=0.809, total=   0.5s\n",
      "[CV] criterion=gini, max_depth=5, n_estimators=100 ...................\n",
      "[CV]  criterion=gini, max_depth=5, n_estimators=100, score=0.822, total=   0.2s\n",
      "[CV] criterion=gini, max_depth=5, n_estimators=100 ...................\n",
      "[CV]  criterion=gini, max_depth=5, n_estimators=100, score=0.844, total=   0.2s\n",
      "[CV] criterion=gini, max_depth=5, n_estimators=100 ...................\n",
      "[CV]  criterion=gini, max_depth=5, n_estimators=100, score=0.853, total=   0.2s\n",
      "[CV] criterion=gini, max_depth=5, n_estimators=100 ...................\n",
      "[CV]  criterion=gini, max_depth=5, n_estimators=100, score=0.828, total=   0.2s\n",
      "[CV] criterion=gini, max_depth=5, n_estimators=100 ...................\n",
      "[CV]  criterion=gini, max_depth=5, n_estimators=100, score=0.819, total=   0.2s\n",
      "[CV] criterion=gini, max_depth=5, n_estimators=200 ...................\n",
      "[CV]  criterion=gini, max_depth=5, n_estimators=200, score=0.847, total=   0.3s\n",
      "[CV] criterion=gini, max_depth=5, n_estimators=200 ...................\n",
      "[CV]  criterion=gini, max_depth=5, n_estimators=200, score=0.838, total=   0.3s\n",
      "[CV] criterion=gini, max_depth=5, n_estimators=200 ...................\n",
      "[CV]  criterion=gini, max_depth=5, n_estimators=200, score=0.850, total=   0.3s\n",
      "[CV] criterion=gini, max_depth=5, n_estimators=200 ...................\n",
      "[CV]  criterion=gini, max_depth=5, n_estimators=200, score=0.841, total=   0.3s\n",
      "[CV] criterion=gini, max_depth=5, n_estimators=200 ...................\n",
      "[CV]  criterion=gini, max_depth=5, n_estimators=200, score=0.834, total=   0.3s\n",
      "[CV] criterion=gini, max_depth=5, n_estimators=300 ...................\n",
      "[CV]  criterion=gini, max_depth=5, n_estimators=300, score=0.847, total=   0.4s\n",
      "[CV] criterion=gini, max_depth=5, n_estimators=300 ...................\n",
      "[CV]  criterion=gini, max_depth=5, n_estimators=300, score=0.841, total=   0.5s\n",
      "[CV] criterion=gini, max_depth=5, n_estimators=300 ...................\n",
      "[CV]  criterion=gini, max_depth=5, n_estimators=300, score=0.841, total=   0.6s\n",
      "[CV] criterion=gini, max_depth=5, n_estimators=300 ...................\n",
      "[CV]  criterion=gini, max_depth=5, n_estimators=300, score=0.844, total=   0.4s\n",
      "[CV] criterion=gini, max_depth=5, n_estimators=300 ...................\n",
      "[CV]  criterion=gini, max_depth=5, n_estimators=300, score=0.831, total=   0.5s\n",
      "[CV] criterion=gini, max_depth=5, n_estimators=400 ...................\n",
      "[CV]  criterion=gini, max_depth=5, n_estimators=400, score=0.859, total=   0.6s\n",
      "[CV] criterion=gini, max_depth=5, n_estimators=400 ...................\n",
      "[CV]  criterion=gini, max_depth=5, n_estimators=400, score=0.834, total=   0.6s\n",
      "[CV] criterion=gini, max_depth=5, n_estimators=400 ...................\n",
      "[CV]  criterion=gini, max_depth=5, n_estimators=400, score=0.872, total=   0.7s\n",
      "[CV] criterion=gini, max_depth=5, n_estimators=400 ...................\n",
      "[CV]  criterion=gini, max_depth=5, n_estimators=400, score=0.838, total=   0.6s\n",
      "[CV] criterion=gini, max_depth=5, n_estimators=400 ...................\n",
      "[CV]  criterion=gini, max_depth=5, n_estimators=400, score=0.850, total=   0.7s\n",
      "[CV] criterion=gini, max_depth=7, n_estimators=100 ...................\n",
      "[CV]  criterion=gini, max_depth=7, n_estimators=100, score=0.872, total=   0.2s\n",
      "[CV] criterion=gini, max_depth=7, n_estimators=100 ...................\n",
      "[CV]  criterion=gini, max_depth=7, n_estimators=100, score=0.844, total=   0.2s\n",
      "[CV] criterion=gini, max_depth=7, n_estimators=100 ...................\n",
      "[CV]  criterion=gini, max_depth=7, n_estimators=100, score=0.897, total=   0.2s\n",
      "[CV] criterion=gini, max_depth=7, n_estimators=100 ...................\n",
      "[CV]  criterion=gini, max_depth=7, n_estimators=100, score=0.859, total=   0.2s\n",
      "[CV] criterion=gini, max_depth=7, n_estimators=100 ...................\n",
      "[CV]  criterion=gini, max_depth=7, n_estimators=100, score=0.847, total=   0.2s\n",
      "[CV] criterion=gini, max_depth=7, n_estimators=200 ...................\n"
     ]
    },
    {
     "name": "stdout",
     "output_type": "stream",
     "text": [
      "[CV]  criterion=gini, max_depth=7, n_estimators=200, score=0.850, total=   0.3s\n",
      "[CV] criterion=gini, max_depth=7, n_estimators=200 ...................\n",
      "[CV]  criterion=gini, max_depth=7, n_estimators=200, score=0.853, total=   0.3s\n",
      "[CV] criterion=gini, max_depth=7, n_estimators=200 ...................\n",
      "[CV]  criterion=gini, max_depth=7, n_estimators=200, score=0.863, total=   0.3s\n",
      "[CV] criterion=gini, max_depth=7, n_estimators=200 ...................\n",
      "[CV]  criterion=gini, max_depth=7, n_estimators=200, score=0.856, total=   0.3s\n",
      "[CV] criterion=gini, max_depth=7, n_estimators=200 ...................\n",
      "[CV]  criterion=gini, max_depth=7, n_estimators=200, score=0.838, total=   0.3s\n",
      "[CV] criterion=gini, max_depth=7, n_estimators=300 ...................\n",
      "[CV]  criterion=gini, max_depth=7, n_estimators=300, score=0.853, total=   0.5s\n",
      "[CV] criterion=gini, max_depth=7, n_estimators=300 ...................\n",
      "[CV]  criterion=gini, max_depth=7, n_estimators=300, score=0.850, total=   0.5s\n",
      "[CV] criterion=gini, max_depth=7, n_estimators=300 ...................\n",
      "[CV]  criterion=gini, max_depth=7, n_estimators=300, score=0.872, total=   0.5s\n",
      "[CV] criterion=gini, max_depth=7, n_estimators=300 ...................\n",
      "[CV]  criterion=gini, max_depth=7, n_estimators=300, score=0.853, total=   0.4s\n",
      "[CV] criterion=gini, max_depth=7, n_estimators=300 ...................\n",
      "[CV]  criterion=gini, max_depth=7, n_estimators=300, score=0.863, total=   0.5s\n",
      "[CV] criterion=gini, max_depth=7, n_estimators=400 ...................\n",
      "[CV]  criterion=gini, max_depth=7, n_estimators=400, score=0.872, total=   0.5s\n",
      "[CV] criterion=gini, max_depth=7, n_estimators=400 ...................\n",
      "[CV]  criterion=gini, max_depth=7, n_estimators=400, score=0.859, total=   0.5s\n",
      "[CV] criterion=gini, max_depth=7, n_estimators=400 ...................\n",
      "[CV]  criterion=gini, max_depth=7, n_estimators=400, score=0.894, total=   0.5s\n",
      "[CV] criterion=gini, max_depth=7, n_estimators=400 ...................\n",
      "[CV]  criterion=gini, max_depth=7, n_estimators=400, score=0.859, total=   0.5s\n",
      "[CV] criterion=gini, max_depth=7, n_estimators=400 ...................\n",
      "[CV]  criterion=gini, max_depth=7, n_estimators=400, score=0.869, total=   0.5s\n",
      "[CV] criterion=entropy, max_depth=1, n_estimators=100 ................\n",
      "[CV]  criterion=entropy, max_depth=1, n_estimators=100, score=0.584, total=   0.2s\n",
      "[CV] criterion=entropy, max_depth=1, n_estimators=100 ................\n",
      "[CV]  criterion=entropy, max_depth=1, n_estimators=100, score=0.512, total=   0.2s\n",
      "[CV] criterion=entropy, max_depth=1, n_estimators=100 ................\n",
      "[CV]  criterion=entropy, max_depth=1, n_estimators=100, score=0.537, total=   0.2s\n",
      "[CV] criterion=entropy, max_depth=1, n_estimators=100 ................\n",
      "[CV]  criterion=entropy, max_depth=1, n_estimators=100, score=0.609, total=   0.2s\n",
      "[CV] criterion=entropy, max_depth=1, n_estimators=100 ................\n",
      "[CV]  criterion=entropy, max_depth=1, n_estimators=100, score=0.562, total=   0.2s\n",
      "[CV] criterion=entropy, max_depth=1, n_estimators=200 ................\n",
      "[CV]  criterion=entropy, max_depth=1, n_estimators=200, score=0.575, total=   0.3s\n",
      "[CV] criterion=entropy, max_depth=1, n_estimators=200 ................\n",
      "[CV]  criterion=entropy, max_depth=1, n_estimators=200, score=0.528, total=   0.3s\n",
      "[CV] criterion=entropy, max_depth=1, n_estimators=200 ................\n",
      "[CV]  criterion=entropy, max_depth=1, n_estimators=200, score=0.547, total=   0.3s\n",
      "[CV] criterion=entropy, max_depth=1, n_estimators=200 ................\n",
      "[CV]  criterion=entropy, max_depth=1, n_estimators=200, score=0.562, total=   0.3s\n",
      "[CV] criterion=entropy, max_depth=1, n_estimators=200 ................\n",
      "[CV]  criterion=entropy, max_depth=1, n_estimators=200, score=0.588, total=   0.3s\n",
      "[CV] criterion=entropy, max_depth=1, n_estimators=300 ................\n",
      "[CV]  criterion=entropy, max_depth=1, n_estimators=300, score=0.553, total=   0.4s\n",
      "[CV] criterion=entropy, max_depth=1, n_estimators=300 ................\n",
      "[CV]  criterion=entropy, max_depth=1, n_estimators=300, score=0.569, total=   0.4s\n",
      "[CV] criterion=entropy, max_depth=1, n_estimators=300 ................\n",
      "[CV]  criterion=entropy, max_depth=1, n_estimators=300, score=0.559, total=   0.4s\n",
      "[CV] criterion=entropy, max_depth=1, n_estimators=300 ................\n",
      "[CV]  criterion=entropy, max_depth=1, n_estimators=300, score=0.603, total=   0.4s\n",
      "[CV] criterion=entropy, max_depth=1, n_estimators=300 ................\n",
      "[CV]  criterion=entropy, max_depth=1, n_estimators=300, score=0.578, total=   0.4s\n",
      "[CV] criterion=entropy, max_depth=1, n_estimators=400 ................\n",
      "[CV]  criterion=entropy, max_depth=1, n_estimators=400, score=0.588, total=   0.5s\n",
      "[CV] criterion=entropy, max_depth=1, n_estimators=400 ................\n",
      "[CV]  criterion=entropy, max_depth=1, n_estimators=400, score=0.550, total=   0.4s\n",
      "[CV] criterion=entropy, max_depth=1, n_estimators=400 ................\n",
      "[CV]  criterion=entropy, max_depth=1, n_estimators=400, score=0.541, total=   0.4s\n",
      "[CV] criterion=entropy, max_depth=1, n_estimators=400 ................\n",
      "[CV]  criterion=entropy, max_depth=1, n_estimators=400, score=0.591, total=   0.5s\n",
      "[CV] criterion=entropy, max_depth=1, n_estimators=400 ................\n",
      "[CV]  criterion=entropy, max_depth=1, n_estimators=400, score=0.581, total=   0.5s\n",
      "[CV] criterion=entropy, max_depth=3, n_estimators=100 ................\n",
      "[CV]  criterion=entropy, max_depth=3, n_estimators=100, score=0.756, total=   0.2s\n",
      "[CV] criterion=entropy, max_depth=3, n_estimators=100 ................\n",
      "[CV]  criterion=entropy, max_depth=3, n_estimators=100, score=0.816, total=   0.2s\n",
      "[CV] criterion=entropy, max_depth=3, n_estimators=100 ................\n",
      "[CV]  criterion=entropy, max_depth=3, n_estimators=100, score=0.784, total=   0.2s\n",
      "[CV] criterion=entropy, max_depth=3, n_estimators=100 ................\n",
      "[CV]  criterion=entropy, max_depth=3, n_estimators=100, score=0.762, total=   0.2s\n",
      "[CV] criterion=entropy, max_depth=3, n_estimators=100 ................\n",
      "[CV]  criterion=entropy, max_depth=3, n_estimators=100, score=0.744, total=   0.2s\n",
      "[CV] criterion=entropy, max_depth=3, n_estimators=200 ................\n",
      "[CV]  criterion=entropy, max_depth=3, n_estimators=200, score=0.775, total=   0.3s\n",
      "[CV] criterion=entropy, max_depth=3, n_estimators=200 ................\n",
      "[CV]  criterion=entropy, max_depth=3, n_estimators=200, score=0.750, total=   0.3s\n",
      "[CV] criterion=entropy, max_depth=3, n_estimators=200 ................\n",
      "[CV]  criterion=entropy, max_depth=3, n_estimators=200, score=0.806, total=   0.3s\n",
      "[CV] criterion=entropy, max_depth=3, n_estimators=200 ................\n",
      "[CV]  criterion=entropy, max_depth=3, n_estimators=200, score=0.766, total=   0.3s\n",
      "[CV] criterion=entropy, max_depth=3, n_estimators=200 ................\n",
      "[CV]  criterion=entropy, max_depth=3, n_estimators=200, score=0.797, total=   0.2s\n",
      "[CV] criterion=entropy, max_depth=3, n_estimators=300 ................\n",
      "[CV]  criterion=entropy, max_depth=3, n_estimators=300, score=0.775, total=   0.4s\n",
      "[CV] criterion=entropy, max_depth=3, n_estimators=300 ................\n",
      "[CV]  criterion=entropy, max_depth=3, n_estimators=300, score=0.794, total=   0.4s\n",
      "[CV] criterion=entropy, max_depth=3, n_estimators=300 ................\n",
      "[CV]  criterion=entropy, max_depth=3, n_estimators=300, score=0.809, total=   0.4s\n",
      "[CV] criterion=entropy, max_depth=3, n_estimators=300 ................\n",
      "[CV]  criterion=entropy, max_depth=3, n_estimators=300, score=0.781, total=   0.5s\n",
      "[CV] criterion=entropy, max_depth=3, n_estimators=300 ................\n",
      "[CV]  criterion=entropy, max_depth=3, n_estimators=300, score=0.775, total=   0.4s\n",
      "[CV] criterion=entropy, max_depth=3, n_estimators=400 ................\n",
      "[CV]  criterion=entropy, max_depth=3, n_estimators=400, score=0.762, total=   0.5s\n",
      "[CV] criterion=entropy, max_depth=3, n_estimators=400 ................\n",
      "[CV]  criterion=entropy, max_depth=3, n_estimators=400, score=0.778, total=   0.5s\n",
      "[CV] criterion=entropy, max_depth=3, n_estimators=400 ................\n",
      "[CV]  criterion=entropy, max_depth=3, n_estimators=400, score=0.775, total=   0.4s\n",
      "[CV] criterion=entropy, max_depth=3, n_estimators=400 ................\n",
      "[CV]  criterion=entropy, max_depth=3, n_estimators=400, score=0.800, total=   0.4s\n",
      "[CV] criterion=entropy, max_depth=3, n_estimators=400 ................\n"
     ]
    },
    {
     "name": "stdout",
     "output_type": "stream",
     "text": [
      "[CV]  criterion=entropy, max_depth=3, n_estimators=400, score=0.781, total=   0.5s\n",
      "[CV] criterion=entropy, max_depth=5, n_estimators=100 ................\n",
      "[CV]  criterion=entropy, max_depth=5, n_estimators=100, score=0.841, total=   0.2s\n",
      "[CV] criterion=entropy, max_depth=5, n_estimators=100 ................\n",
      "[CV]  criterion=entropy, max_depth=5, n_estimators=100, score=0.831, total=   0.2s\n",
      "[CV] criterion=entropy, max_depth=5, n_estimators=100 ................\n",
      "[CV]  criterion=entropy, max_depth=5, n_estimators=100, score=0.853, total=   0.2s\n",
      "[CV] criterion=entropy, max_depth=5, n_estimators=100 ................\n",
      "[CV]  criterion=entropy, max_depth=5, n_estimators=100, score=0.834, total=   0.2s\n",
      "[CV] criterion=entropy, max_depth=5, n_estimators=100 ................\n",
      "[CV]  criterion=entropy, max_depth=5, n_estimators=100, score=0.834, total=   0.2s\n",
      "[CV] criterion=entropy, max_depth=5, n_estimators=200 ................\n",
      "[CV]  criterion=entropy, max_depth=5, n_estimators=200, score=0.859, total=   0.3s\n",
      "[CV] criterion=entropy, max_depth=5, n_estimators=200 ................\n",
      "[CV]  criterion=entropy, max_depth=5, n_estimators=200, score=0.838, total=   0.3s\n",
      "[CV] criterion=entropy, max_depth=5, n_estimators=200 ................\n",
      "[CV]  criterion=entropy, max_depth=5, n_estimators=200, score=0.844, total=   0.3s\n",
      "[CV] criterion=entropy, max_depth=5, n_estimators=200 ................\n",
      "[CV]  criterion=entropy, max_depth=5, n_estimators=200, score=0.841, total=   0.3s\n",
      "[CV] criterion=entropy, max_depth=5, n_estimators=200 ................\n",
      "[CV]  criterion=entropy, max_depth=5, n_estimators=200, score=0.838, total=   0.3s\n",
      "[CV] criterion=entropy, max_depth=5, n_estimators=300 ................\n",
      "[CV]  criterion=entropy, max_depth=5, n_estimators=300, score=0.853, total=   0.4s\n",
      "[CV] criterion=entropy, max_depth=5, n_estimators=300 ................\n",
      "[CV]  criterion=entropy, max_depth=5, n_estimators=300, score=0.834, total=   0.5s\n",
      "[CV] criterion=entropy, max_depth=5, n_estimators=300 ................\n",
      "[CV]  criterion=entropy, max_depth=5, n_estimators=300, score=0.853, total=   0.4s\n",
      "[CV] criterion=entropy, max_depth=5, n_estimators=300 ................\n",
      "[CV]  criterion=entropy, max_depth=5, n_estimators=300, score=0.844, total=   0.5s\n",
      "[CV] criterion=entropy, max_depth=5, n_estimators=300 ................\n",
      "[CV]  criterion=entropy, max_depth=5, n_estimators=300, score=0.850, total=   0.5s\n",
      "[CV] criterion=entropy, max_depth=5, n_estimators=400 ................\n",
      "[CV]  criterion=entropy, max_depth=5, n_estimators=400, score=0.853, total=   0.5s\n",
      "[CV] criterion=entropy, max_depth=5, n_estimators=400 ................\n",
      "[CV]  criterion=entropy, max_depth=5, n_estimators=400, score=0.819, total=   0.5s\n",
      "[CV] criterion=entropy, max_depth=5, n_estimators=400 ................\n",
      "[CV]  criterion=entropy, max_depth=5, n_estimators=400, score=0.847, total=   0.5s\n",
      "[CV] criterion=entropy, max_depth=5, n_estimators=400 ................\n",
      "[CV]  criterion=entropy, max_depth=5, n_estimators=400, score=0.856, total=   0.5s\n",
      "[CV] criterion=entropy, max_depth=5, n_estimators=400 ................\n",
      "[CV]  criterion=entropy, max_depth=5, n_estimators=400, score=0.847, total=   0.5s\n",
      "[CV] criterion=entropy, max_depth=7, n_estimators=100 ................\n",
      "[CV]  criterion=entropy, max_depth=7, n_estimators=100, score=0.866, total=   0.2s\n",
      "[CV] criterion=entropy, max_depth=7, n_estimators=100 ................\n",
      "[CV]  criterion=entropy, max_depth=7, n_estimators=100, score=0.863, total=   0.2s\n",
      "[CV] criterion=entropy, max_depth=7, n_estimators=100 ................\n",
      "[CV]  criterion=entropy, max_depth=7, n_estimators=100, score=0.875, total=   0.2s\n",
      "[CV] criterion=entropy, max_depth=7, n_estimators=100 ................\n",
      "[CV]  criterion=entropy, max_depth=7, n_estimators=100, score=0.853, total=   0.2s\n",
      "[CV] criterion=entropy, max_depth=7, n_estimators=100 ................\n",
      "[CV]  criterion=entropy, max_depth=7, n_estimators=100, score=0.863, total=   0.2s\n",
      "[CV] criterion=entropy, max_depth=7, n_estimators=200 ................\n",
      "[CV]  criterion=entropy, max_depth=7, n_estimators=200, score=0.869, total=   0.3s\n",
      "[CV] criterion=entropy, max_depth=7, n_estimators=200 ................\n",
      "[CV]  criterion=entropy, max_depth=7, n_estimators=200, score=0.869, total=   0.3s\n",
      "[CV] criterion=entropy, max_depth=7, n_estimators=200 ................\n",
      "[CV]  criterion=entropy, max_depth=7, n_estimators=200, score=0.872, total=   0.3s\n",
      "[CV] criterion=entropy, max_depth=7, n_estimators=200 ................\n",
      "[CV]  criterion=entropy, max_depth=7, n_estimators=200, score=0.863, total=   0.3s\n",
      "[CV] criterion=entropy, max_depth=7, n_estimators=200 ................\n",
      "[CV]  criterion=entropy, max_depth=7, n_estimators=200, score=0.863, total=   0.3s\n",
      "[CV] criterion=entropy, max_depth=7, n_estimators=300 ................\n",
      "[CV]  criterion=entropy, max_depth=7, n_estimators=300, score=0.856, total=   0.5s\n",
      "[CV] criterion=entropy, max_depth=7, n_estimators=300 ................\n",
      "[CV]  criterion=entropy, max_depth=7, n_estimators=300, score=0.863, total=   0.5s\n",
      "[CV] criterion=entropy, max_depth=7, n_estimators=300 ................\n",
      "[CV]  criterion=entropy, max_depth=7, n_estimators=300, score=0.869, total=   0.5s\n",
      "[CV] criterion=entropy, max_depth=7, n_estimators=300 ................\n",
      "[CV]  criterion=entropy, max_depth=7, n_estimators=300, score=0.856, total=   0.5s\n",
      "[CV] criterion=entropy, max_depth=7, n_estimators=300 ................\n",
      "[CV]  criterion=entropy, max_depth=7, n_estimators=300, score=0.866, total=   0.4s\n",
      "[CV] criterion=entropy, max_depth=7, n_estimators=400 ................\n",
      "[CV]  criterion=entropy, max_depth=7, n_estimators=400, score=0.859, total=   0.6s\n",
      "[CV] criterion=entropy, max_depth=7, n_estimators=400 ................\n",
      "[CV]  criterion=entropy, max_depth=7, n_estimators=400, score=0.853, total=   0.5s\n",
      "[CV] criterion=entropy, max_depth=7, n_estimators=400 ................\n",
      "[CV]  criterion=entropy, max_depth=7, n_estimators=400, score=0.863, total=   0.6s\n",
      "[CV] criterion=entropy, max_depth=7, n_estimators=400 ................\n",
      "[CV]  criterion=entropy, max_depth=7, n_estimators=400, score=0.850, total=   0.5s\n",
      "[CV] criterion=entropy, max_depth=7, n_estimators=400 ................\n",
      "[CV]  criterion=entropy, max_depth=7, n_estimators=400, score=0.878, total=   0.6s\n"
     ]
    },
    {
     "name": "stderr",
     "output_type": "stream",
     "text": [
      "[Parallel(n_jobs=1)]: Done 160 out of 160 | elapsed:  1.0min finished\n"
     ]
    },
    {
     "data": {
      "text/plain": [
       "GridSearchCV(cv=5, estimator=RandomForestClassifier(n_jobs=-1), n_jobs=1,\n",
       "             param_grid={'criterion': ['gini', 'entropy'],\n",
       "                         'max_depth': [1, 3, 5, 7],\n",
       "                         'n_estimators': [100, 200, 300, 400]},\n",
       "             scoring='accuracy', verbose=10)"
      ]
     },
     "execution_count": 4,
     "metadata": {},
     "output_type": "execute_result"
    }
   ],
   "source": [
    "# Using Random Forest as example \n",
    "clf = ensemble.RandomForestClassifier(n_jobs = -1) #This tells my pc to run all cores on the problem\n",
    "param_grid = {\n",
    "    #Put the parameters here\n",
    "    #### Example 1: \"n_estimators\": [i for i in range(0,50)]#Change 0 and 50 here to your requirments\n",
    "    \"n_estimators\": [100,200,300,400],\n",
    "    \"max_depth\": [1, 3, 5, 7],\n",
    "    \"criterion\": [\"gini\", \"entropy\"]\n",
    "}\n",
    "\n",
    "# Implementing GridSearch\n",
    "model = model_selection.GridSearchCV(\n",
    "    estimator = clf,\n",
    "    param_grid = param_grid,\n",
    "    scoring = \"accuracy\",\n",
    "    verbose = 10,\n",
    "    n_jobs = 1,\n",
    "    cv = 5,\n",
    ")\n",
    "model.fit(X_train, y_train)"
   ]
  },
  {
   "cell_type": "code",
   "execution_count": 5,
   "metadata": {},
   "outputs": [
    {
     "name": "stdout",
     "output_type": "stream",
     "text": [
      "0.8706250000000001\n",
      "{'bootstrap': True, 'ccp_alpha': 0.0, 'class_weight': None, 'criterion': 'gini', 'max_depth': 7, 'max_features': 'auto', 'max_leaf_nodes': None, 'max_samples': None, 'min_impurity_decrease': 0.0, 'min_impurity_split': None, 'min_samples_leaf': 1, 'min_samples_split': 2, 'min_weight_fraction_leaf': 0.0, 'n_estimators': 400, 'n_jobs': -1, 'oob_score': False, 'random_state': None, 'verbose': 0, 'warm_start': False}\n"
     ]
    }
   ],
   "source": [
    "# Printing best accuracy score because labels are equally divided and the estimators\n",
    "print(model.best_score_)\n",
    "print(model.best_estimator_.get_params())"
   ]
  },
  {
   "cell_type": "code",
   "execution_count": 6,
   "metadata": {},
   "outputs": [
    {
     "data": {
      "text/plain": [
       "0.86"
      ]
     },
     "execution_count": 6,
     "metadata": {},
     "output_type": "execute_result"
    }
   ],
   "source": [
    "#Fine tuned model\n",
    "clf = ensemble.RandomForestClassifier(**model.best_params_)\n",
    "clf.fit(X_train, y_train)\n",
    "y_pred = clf.predict(X_test)\n",
    "\n",
    "#Printing model accuracy\n",
    "gridAcc= metrics.accuracy_score(y_test,y_pred)\n",
    "gridAcc"
   ]
  },
  {
   "cell_type": "markdown",
   "metadata": {},
   "source": [
    "<div class=\"list-group\" id=\"list-tab\" role=\"tablist\">\n",
    "<h4 class=\"list-group-item list-group-item-action active\" data-toggle=\"list\" style='background:gray; border:0' role=\"tab\" aria-controls=\"home\"><center>Random Search</center></h4>"
   ]
  },
  {
   "cell_type": "code",
   "execution_count": 7,
   "metadata": {
    "scrolled": true
   },
   "outputs": [
    {
     "name": "stdout",
     "output_type": "stream",
     "text": [
      "Fitting 5 folds for each of 10 candidates, totalling 50 fits\n",
      "[CV] n_estimators=400, max_depth=16, criterion=gini ..................\n"
     ]
    },
    {
     "name": "stderr",
     "output_type": "stream",
     "text": [
      "[Parallel(n_jobs=1)]: Using backend SequentialBackend with 1 concurrent workers.\n"
     ]
    },
    {
     "name": "stdout",
     "output_type": "stream",
     "text": [
      "[CV]  n_estimators=400, max_depth=16, criterion=gini, score=0.878, total=   0.5s\n",
      "[CV] n_estimators=400, max_depth=16, criterion=gini ..................\n"
     ]
    },
    {
     "name": "stderr",
     "output_type": "stream",
     "text": [
      "[Parallel(n_jobs=1)]: Done   1 out of   1 | elapsed:    0.4s remaining:    0.0s\n"
     ]
    },
    {
     "name": "stdout",
     "output_type": "stream",
     "text": [
      "[CV]  n_estimators=400, max_depth=16, criterion=gini, score=0.872, total=   0.5s\n",
      "[CV] n_estimators=400, max_depth=16, criterion=gini ..................\n"
     ]
    },
    {
     "name": "stderr",
     "output_type": "stream",
     "text": [
      "[Parallel(n_jobs=1)]: Done   2 out of   2 | elapsed:    1.0s remaining:    0.0s\n"
     ]
    },
    {
     "name": "stdout",
     "output_type": "stream",
     "text": [
      "[CV]  n_estimators=400, max_depth=16, criterion=gini, score=0.887, total=   0.6s\n",
      "[CV] n_estimators=400, max_depth=16, criterion=gini ..................\n"
     ]
    },
    {
     "name": "stderr",
     "output_type": "stream",
     "text": [
      "[Parallel(n_jobs=1)]: Done   3 out of   3 | elapsed:    1.6s remaining:    0.0s\n"
     ]
    },
    {
     "name": "stdout",
     "output_type": "stream",
     "text": [
      "[CV]  n_estimators=400, max_depth=16, criterion=gini, score=0.878, total=   0.6s\n",
      "[CV] n_estimators=400, max_depth=16, criterion=gini ..................\n"
     ]
    },
    {
     "name": "stderr",
     "output_type": "stream",
     "text": [
      "[Parallel(n_jobs=1)]: Done   4 out of   4 | elapsed:    2.1s remaining:    0.0s\n"
     ]
    },
    {
     "name": "stdout",
     "output_type": "stream",
     "text": [
      "[CV]  n_estimators=400, max_depth=16, criterion=gini, score=0.894, total=   0.6s\n",
      "[CV] n_estimators=200, max_depth=9, criterion=gini ...................\n"
     ]
    },
    {
     "name": "stderr",
     "output_type": "stream",
     "text": [
      "[Parallel(n_jobs=1)]: Done   5 out of   5 | elapsed:    2.7s remaining:    0.0s\n"
     ]
    },
    {
     "name": "stdout",
     "output_type": "stream",
     "text": [
      "[CV]  n_estimators=200, max_depth=9, criterion=gini, score=0.850, total=   0.3s\n",
      "[CV] n_estimators=200, max_depth=9, criterion=gini ...................\n"
     ]
    },
    {
     "name": "stderr",
     "output_type": "stream",
     "text": [
      "[Parallel(n_jobs=1)]: Done   6 out of   6 | elapsed:    3.0s remaining:    0.0s\n"
     ]
    },
    {
     "name": "stdout",
     "output_type": "stream",
     "text": [
      "[CV]  n_estimators=200, max_depth=9, criterion=gini, score=0.859, total=   0.3s\n",
      "[CV] n_estimators=200, max_depth=9, criterion=gini ...................\n"
     ]
    },
    {
     "name": "stderr",
     "output_type": "stream",
     "text": [
      "[Parallel(n_jobs=1)]: Done   7 out of   7 | elapsed:    3.3s remaining:    0.0s\n"
     ]
    },
    {
     "name": "stdout",
     "output_type": "stream",
     "text": [
      "[CV]  n_estimators=200, max_depth=9, criterion=gini, score=0.887, total=   0.3s\n",
      "[CV] n_estimators=200, max_depth=9, criterion=gini ...................\n"
     ]
    },
    {
     "name": "stderr",
     "output_type": "stream",
     "text": [
      "[Parallel(n_jobs=1)]: Done   8 out of   8 | elapsed:    3.6s remaining:    0.0s\n"
     ]
    },
    {
     "name": "stdout",
     "output_type": "stream",
     "text": [
      "[CV]  n_estimators=200, max_depth=9, criterion=gini, score=0.850, total=   0.3s\n",
      "[CV] n_estimators=200, max_depth=9, criterion=gini ...................\n"
     ]
    },
    {
     "name": "stderr",
     "output_type": "stream",
     "text": [
      "[Parallel(n_jobs=1)]: Done   9 out of   9 | elapsed:    3.9s remaining:    0.0s\n"
     ]
    },
    {
     "name": "stdout",
     "output_type": "stream",
     "text": [
      "[CV]  n_estimators=200, max_depth=9, criterion=gini, score=0.878, total=   0.3s\n",
      "[CV] n_estimators=200, max_depth=5, criterion=entropy ................\n",
      "[CV]  n_estimators=200, max_depth=5, criterion=entropy, score=0.856, total=   0.3s\n",
      "[CV] n_estimators=200, max_depth=5, criterion=entropy ................\n",
      "[CV]  n_estimators=200, max_depth=5, criterion=entropy, score=0.828, total=   0.3s\n",
      "[CV] n_estimators=200, max_depth=5, criterion=entropy ................\n",
      "[CV]  n_estimators=200, max_depth=5, criterion=entropy, score=0.856, total=   0.3s\n",
      "[CV] n_estimators=200, max_depth=5, criterion=entropy ................\n",
      "[CV]  n_estimators=200, max_depth=5, criterion=entropy, score=0.838, total=   0.3s\n",
      "[CV] n_estimators=200, max_depth=5, criterion=entropy ................\n",
      "[CV]  n_estimators=200, max_depth=5, criterion=entropy, score=0.831, total=   0.3s\n",
      "[CV] n_estimators=400, max_depth=1, criterion=gini ...................\n",
      "[CV]  n_estimators=400, max_depth=1, criterion=gini, score=0.588, total=   0.5s\n",
      "[CV] n_estimators=400, max_depth=1, criterion=gini ...................\n",
      "[CV]  n_estimators=400, max_depth=1, criterion=gini, score=0.556, total=   0.4s\n",
      "[CV] n_estimators=400, max_depth=1, criterion=gini ...................\n",
      "[CV]  n_estimators=400, max_depth=1, criterion=gini, score=0.569, total=   0.4s\n",
      "[CV] n_estimators=400, max_depth=1, criterion=gini ...................\n",
      "[CV]  n_estimators=400, max_depth=1, criterion=gini, score=0.588, total=   0.4s\n",
      "[CV] n_estimators=400, max_depth=1, criterion=gini ...................\n",
      "[CV]  n_estimators=400, max_depth=1, criterion=gini, score=0.622, total=   0.4s\n",
      "[CV] n_estimators=200, max_depth=18, criterion=entropy ...............\n",
      "[CV]  n_estimators=200, max_depth=18, criterion=entropy, score=0.875, total=   0.3s\n",
      "[CV] n_estimators=200, max_depth=18, criterion=entropy ...............\n",
      "[CV]  n_estimators=200, max_depth=18, criterion=entropy, score=0.884, total=   0.4s\n",
      "[CV] n_estimators=200, max_depth=18, criterion=entropy ...............\n",
      "[CV]  n_estimators=200, max_depth=18, criterion=entropy, score=0.881, total=   0.3s\n",
      "[CV] n_estimators=200, max_depth=18, criterion=entropy ...............\n",
      "[CV]  n_estimators=200, max_depth=18, criterion=entropy, score=0.875, total=   0.4s\n",
      "[CV] n_estimators=200, max_depth=18, criterion=entropy ...............\n",
      "[CV]  n_estimators=200, max_depth=18, criterion=entropy, score=0.906, total=   0.3s\n",
      "[CV] n_estimators=400, max_depth=4, criterion=entropy ................\n",
      "[CV]  n_estimators=400, max_depth=4, criterion=entropy, score=0.828, total=   0.7s\n",
      "[CV] n_estimators=400, max_depth=4, criterion=entropy ................\n",
      "[CV]  n_estimators=400, max_depth=4, criterion=entropy, score=0.794, total=   0.5s\n",
      "[CV] n_estimators=400, max_depth=4, criterion=entropy ................\n",
      "[CV]  n_estimators=400, max_depth=4, criterion=entropy, score=0.838, total=   0.5s\n",
      "[CV] n_estimators=400, max_depth=4, criterion=entropy ................\n",
      "[CV]  n_estimators=400, max_depth=4, criterion=entropy, score=0.834, total=   0.5s\n",
      "[CV] n_estimators=400, max_depth=4, criterion=entropy ................\n",
      "[CV]  n_estimators=400, max_depth=4, criterion=entropy, score=0.812, total=   0.5s\n",
      "[CV] n_estimators=400, max_depth=6, criterion=entropy ................\n",
      "[CV]  n_estimators=400, max_depth=6, criterion=entropy, score=0.856, total=   0.5s\n",
      "[CV] n_estimators=400, max_depth=6, criterion=entropy ................\n",
      "[CV]  n_estimators=400, max_depth=6, criterion=entropy, score=0.841, total=   0.6s\n",
      "[CV] n_estimators=400, max_depth=6, criterion=entropy ................\n",
      "[CV]  n_estimators=400, max_depth=6, criterion=entropy, score=0.863, total=   0.5s\n",
      "[CV] n_estimators=400, max_depth=6, criterion=entropy ................\n",
      "[CV]  n_estimators=400, max_depth=6, criterion=entropy, score=0.847, total=   0.6s\n",
      "[CV] n_estimators=400, max_depth=6, criterion=entropy ................\n",
      "[CV]  n_estimators=400, max_depth=6, criterion=entropy, score=0.869, total=   0.5s\n",
      "[CV] n_estimators=200, max_depth=17, criterion=entropy ...............\n",
      "[CV]  n_estimators=200, max_depth=17, criterion=entropy, score=0.872, total=   0.3s\n",
      "[CV] n_estimators=200, max_depth=17, criterion=entropy ...............\n",
      "[CV]  n_estimators=200, max_depth=17, criterion=entropy, score=0.866, total=   0.3s\n",
      "[CV] n_estimators=200, max_depth=17, criterion=entropy ...............\n",
      "[CV]  n_estimators=200, max_depth=17, criterion=entropy, score=0.894, total=   0.3s\n",
      "[CV] n_estimators=200, max_depth=17, criterion=entropy ...............\n",
      "[CV]  n_estimators=200, max_depth=17, criterion=entropy, score=0.863, total=   0.3s\n",
      "[CV] n_estimators=200, max_depth=17, criterion=entropy ...............\n",
      "[CV]  n_estimators=200, max_depth=17, criterion=entropy, score=0.900, total=   0.4s\n",
      "[CV] n_estimators=400, max_depth=7, criterion=gini ...................\n",
      "[CV]  n_estimators=400, max_depth=7, criterion=gini, score=0.859, total=   0.5s\n",
      "[CV] n_estimators=400, max_depth=7, criterion=gini ...................\n",
      "[CV]  n_estimators=400, max_depth=7, criterion=gini, score=0.847, total=   0.5s\n",
      "[CV] n_estimators=400, max_depth=7, criterion=gini ...................\n",
      "[CV]  n_estimators=400, max_depth=7, criterion=gini, score=0.872, total=   0.5s\n",
      "[CV] n_estimators=400, max_depth=7, criterion=gini ...................\n",
      "[CV]  n_estimators=400, max_depth=7, criterion=gini, score=0.853, total=   0.6s\n",
      "[CV] n_estimators=400, max_depth=7, criterion=gini ...................\n",
      "[CV]  n_estimators=400, max_depth=7, criterion=gini, score=0.853, total=   0.6s\n",
      "[CV] n_estimators=300, max_depth=5, criterion=entropy ................\n",
      "[CV]  n_estimators=300, max_depth=5, criterion=entropy, score=0.850, total=   0.5s\n",
      "[CV] n_estimators=300, max_depth=5, criterion=entropy ................\n",
      "[CV]  n_estimators=300, max_depth=5, criterion=entropy, score=0.825, total=   0.5s\n",
      "[CV] n_estimators=300, max_depth=5, criterion=entropy ................\n",
      "[CV]  n_estimators=300, max_depth=5, criterion=entropy, score=0.847, total=   0.5s\n",
      "[CV] n_estimators=300, max_depth=5, criterion=entropy ................\n",
      "[CV]  n_estimators=300, max_depth=5, criterion=entropy, score=0.831, total=   0.5s\n",
      "[CV] n_estimators=300, max_depth=5, criterion=entropy ................\n",
      "[CV]  n_estimators=300, max_depth=5, criterion=entropy, score=0.844, total=   0.5s\n"
     ]
    },
    {
     "name": "stderr",
     "output_type": "stream",
     "text": [
      "[Parallel(n_jobs=1)]: Done  50 out of  50 | elapsed:   21.7s finished\n"
     ]
    },
    {
     "data": {
      "text/plain": [
       "RandomizedSearchCV(cv=5, estimator=RandomForestClassifier(n_jobs=-1), n_jobs=1,\n",
       "                   param_distributions={'criterion': ['gini', 'entropy'],\n",
       "                                        'max_depth': array([ 1,  2,  3,  4,  5,  6,  7,  8,  9, 10, 11, 12, 13, 14, 15, 16, 17,\n",
       "       18, 19]),\n",
       "                                        'n_estimators': array([100, 200, 300, 400])},\n",
       "                   scoring='accuracy', verbose=10)"
      ]
     },
     "execution_count": 7,
     "metadata": {},
     "output_type": "execute_result"
    }
   ],
   "source": [
    "# Using Random Forest as example \n",
    "clf = ensemble.RandomForestClassifier(n_jobs = -1) #This tells my pc to run all cores on the problem\n",
    "param_grid = {\n",
    "    #Put the parameters here\n",
    "    #### Example 1: \"n_estimators\": [i for i in range(0,50)]#Change 0 and 50 here to your requirments\n",
    "    \"n_estimators\": np.arange(100, 500, 100),\n",
    "    \"max_depth\": np.arange(1, 20),\n",
    "    \"criterion\": [\"gini\", \"entropy\"]\n",
    "}\n",
    "\n",
    "# Implementing GridSearch\n",
    "model = model_selection.RandomizedSearchCV(\n",
    "    estimator = clf,\n",
    "    param_distributions = param_grid,\n",
    "    scoring = \"accuracy\",\n",
    "    n_iter = 10,\n",
    "    verbose = 10,\n",
    "    n_jobs = 1,\n",
    "    cv = 5,\n",
    ")\n",
    "model.fit(X_train, y_train)"
   ]
  },
  {
   "cell_type": "code",
   "execution_count": 8,
   "metadata": {},
   "outputs": [
    {
     "name": "stdout",
     "output_type": "stream",
     "text": [
      "0.884375\n",
      "{'bootstrap': True, 'ccp_alpha': 0.0, 'class_weight': None, 'criterion': 'entropy', 'max_depth': 18, 'max_features': 'auto', 'max_leaf_nodes': None, 'max_samples': None, 'min_impurity_decrease': 0.0, 'min_impurity_split': None, 'min_samples_leaf': 1, 'min_samples_split': 2, 'min_weight_fraction_leaf': 0.0, 'n_estimators': 200, 'n_jobs': -1, 'oob_score': False, 'random_state': None, 'verbose': 0, 'warm_start': False}\n"
     ]
    }
   ],
   "source": [
    "# Printing best accuracy score because labels are equally divided and the estimators\n",
    "print(model.best_score_)\n",
    "print(model.best_estimator_.get_params())"
   ]
  },
  {
   "cell_type": "code",
   "execution_count": 9,
   "metadata": {},
   "outputs": [
    {
     "data": {
      "text/plain": [
       "0.875"
      ]
     },
     "execution_count": 9,
     "metadata": {},
     "output_type": "execute_result"
    }
   ],
   "source": [
    "#Fine tuned model\n",
    "clf = ensemble.RandomForestClassifier(**model.best_params_)\n",
    "clf.fit(X_train, y_train)\n",
    "y_pred = clf.predict(X_test)\n",
    "\n",
    "#Printing model accuracy\n",
    "randAcc= metrics.accuracy_score(y_test,y_pred)\n",
    "randAcc"
   ]
  },
  {
   "cell_type": "markdown",
   "metadata": {},
   "source": [
    "<div class=\"list-group\" id=\"list-tab\" role=\"tablist\">\n",
    "<h4 class=\"list-group-item list-group-item-action active\" data-toggle=\"list\" style='background:gray; border:0' role=\"tab\" aria-controls=\"home\"><center>Grid/Random Search with Pipelines</center></h4>"
   ]
  },
  {
   "cell_type": "markdown",
   "metadata": {},
   "source": [
    "Wedon't really need to do PCA or scaling on this data but for the sake of example we are scaling the data, doing PCA and a creating a random forest classifier. "
   ]
  },
  {
   "cell_type": "code",
   "execution_count": 10,
   "metadata": {},
   "outputs": [],
   "source": [
    "scl = preprocessing.StandardScaler()\n",
    "pca = decomposition.PCA()\n",
    "rf = ensemble.RandomForestClassifier(n_jobs=-1)"
   ]
  },
  {
   "cell_type": "markdown",
   "metadata": {},
   "source": [
    "**Steps in the created the pipeline:**\n",
    "\n",
    "1. We are **scaling.**\n",
    "2. We are doing **dimenstionality reduction** using PCA\n",
    "3. Defing the **classification model** as a random forest"
   ]
  },
  {
   "cell_type": "code",
   "execution_count": 18,
   "metadata": {
    "scrolled": true
   },
   "outputs": [
    {
     "name": "stdout",
     "output_type": "stream",
     "text": [
      "Fitting 5 folds for each of 10 candidates, totalling 50 fits\n",
      "[CV] rf__n_estimators=300, rf__max_depth=12, rf__criterion=entropy, pca__n_components=8 \n"
     ]
    },
    {
     "name": "stderr",
     "output_type": "stream",
     "text": [
      "[Parallel(n_jobs=1)]: Using backend SequentialBackend with 1 concurrent workers.\n"
     ]
    },
    {
     "name": "stdout",
     "output_type": "stream",
     "text": [
      "[CV]  rf__n_estimators=300, rf__max_depth=12, rf__criterion=entropy, pca__n_components=8, score=0.472, total=   4.3s\n",
      "[CV] rf__n_estimators=300, rf__max_depth=12, rf__criterion=entropy, pca__n_components=8 \n"
     ]
    },
    {
     "name": "stderr",
     "output_type": "stream",
     "text": [
      "[Parallel(n_jobs=1)]: Done   1 out of   1 | elapsed:    4.2s remaining:    0.0s\n"
     ]
    },
    {
     "name": "stdout",
     "output_type": "stream",
     "text": [
      "[CV]  rf__n_estimators=300, rf__max_depth=12, rf__criterion=entropy, pca__n_components=8, score=0.372, total=   0.6s\n",
      "[CV] rf__n_estimators=300, rf__max_depth=12, rf__criterion=entropy, pca__n_components=8 \n"
     ]
    },
    {
     "name": "stderr",
     "output_type": "stream",
     "text": [
      "[Parallel(n_jobs=1)]: Done   2 out of   2 | elapsed:    4.8s remaining:    0.0s\n"
     ]
    },
    {
     "name": "stdout",
     "output_type": "stream",
     "text": [
      "[CV]  rf__n_estimators=300, rf__max_depth=12, rf__criterion=entropy, pca__n_components=8, score=0.425, total=   0.7s\n",
      "[CV] rf__n_estimators=300, rf__max_depth=12, rf__criterion=entropy, pca__n_components=8 \n"
     ]
    },
    {
     "name": "stderr",
     "output_type": "stream",
     "text": [
      "[Parallel(n_jobs=1)]: Done   3 out of   3 | elapsed:    5.6s remaining:    0.0s\n"
     ]
    },
    {
     "name": "stdout",
     "output_type": "stream",
     "text": [
      "[CV]  rf__n_estimators=300, rf__max_depth=12, rf__criterion=entropy, pca__n_components=8, score=0.444, total=   0.7s\n",
      "[CV] rf__n_estimators=300, rf__max_depth=12, rf__criterion=entropy, pca__n_components=8 \n"
     ]
    },
    {
     "name": "stderr",
     "output_type": "stream",
     "text": [
      "[Parallel(n_jobs=1)]: Done   4 out of   4 | elapsed:    6.2s remaining:    0.0s\n"
     ]
    },
    {
     "name": "stdout",
     "output_type": "stream",
     "text": [
      "[CV]  rf__n_estimators=300, rf__max_depth=12, rf__criterion=entropy, pca__n_components=8, score=0.362, total=   0.6s\n",
      "[CV] rf__n_estimators=100, rf__max_depth=17, rf__criterion=entropy, pca__n_components=6 \n"
     ]
    },
    {
     "name": "stderr",
     "output_type": "stream",
     "text": [
      "[Parallel(n_jobs=1)]: Done   5 out of   5 | elapsed:    6.9s remaining:    0.0s\n"
     ]
    },
    {
     "name": "stdout",
     "output_type": "stream",
     "text": [
      "[CV]  rf__n_estimators=100, rf__max_depth=17, rf__criterion=entropy, pca__n_components=6, score=0.356, total=   0.3s\n",
      "[CV] rf__n_estimators=100, rf__max_depth=17, rf__criterion=entropy, pca__n_components=6 \n"
     ]
    },
    {
     "name": "stderr",
     "output_type": "stream",
     "text": [
      "[Parallel(n_jobs=1)]: Done   6 out of   6 | elapsed:    7.1s remaining:    0.0s\n"
     ]
    },
    {
     "name": "stdout",
     "output_type": "stream",
     "text": [
      "[CV]  rf__n_estimators=100, rf__max_depth=17, rf__criterion=entropy, pca__n_components=6, score=0.322, total=   0.3s\n",
      "[CV] rf__n_estimators=100, rf__max_depth=17, rf__criterion=entropy, pca__n_components=6 \n"
     ]
    },
    {
     "name": "stderr",
     "output_type": "stream",
     "text": [
      "[Parallel(n_jobs=1)]: Done   7 out of   7 | elapsed:    7.4s remaining:    0.0s\n"
     ]
    },
    {
     "name": "stdout",
     "output_type": "stream",
     "text": [
      "[CV]  rf__n_estimators=100, rf__max_depth=17, rf__criterion=entropy, pca__n_components=6, score=0.378, total=   0.3s\n",
      "[CV] rf__n_estimators=100, rf__max_depth=17, rf__criterion=entropy, pca__n_components=6 \n"
     ]
    },
    {
     "name": "stderr",
     "output_type": "stream",
     "text": [
      "[Parallel(n_jobs=1)]: Done   8 out of   8 | elapsed:    7.7s remaining:    0.0s\n"
     ]
    },
    {
     "name": "stdout",
     "output_type": "stream",
     "text": [
      "[CV]  rf__n_estimators=100, rf__max_depth=17, rf__criterion=entropy, pca__n_components=6, score=0.331, total=   0.3s\n",
      "[CV] rf__n_estimators=100, rf__max_depth=17, rf__criterion=entropy, pca__n_components=6 \n"
     ]
    },
    {
     "name": "stderr",
     "output_type": "stream",
     "text": [
      "[Parallel(n_jobs=1)]: Done   9 out of   9 | elapsed:    8.0s remaining:    0.0s\n"
     ]
    },
    {
     "name": "stdout",
     "output_type": "stream",
     "text": [
      "[CV]  rf__n_estimators=100, rf__max_depth=17, rf__criterion=entropy, pca__n_components=6, score=0.306, total=   0.3s\n",
      "[CV] rf__n_estimators=300, rf__max_depth=4, rf__criterion=gini, pca__n_components=9 \n",
      "[CV]  rf__n_estimators=300, rf__max_depth=4, rf__criterion=gini, pca__n_components=9, score=0.506, total=   0.5s\n",
      "[CV] rf__n_estimators=300, rf__max_depth=4, rf__criterion=gini, pca__n_components=9 \n",
      "[CV]  rf__n_estimators=300, rf__max_depth=4, rf__criterion=gini, pca__n_components=9, score=0.394, total=   0.5s\n",
      "[CV] rf__n_estimators=300, rf__max_depth=4, rf__criterion=gini, pca__n_components=9 \n",
      "[CV]  rf__n_estimators=300, rf__max_depth=4, rf__criterion=gini, pca__n_components=9, score=0.453, total=   0.5s\n",
      "[CV] rf__n_estimators=300, rf__max_depth=4, rf__criterion=gini, pca__n_components=9 \n",
      "[CV]  rf__n_estimators=300, rf__max_depth=4, rf__criterion=gini, pca__n_components=9, score=0.450, total=   0.5s\n",
      "[CV] rf__n_estimators=300, rf__max_depth=4, rf__criterion=gini, pca__n_components=9 \n",
      "[CV]  rf__n_estimators=300, rf__max_depth=4, rf__criterion=gini, pca__n_components=9, score=0.428, total=   0.5s\n",
      "[CV] rf__n_estimators=200, rf__max_depth=14, rf__criterion=gini, pca__n_components=7 \n",
      "[CV]  rf__n_estimators=200, rf__max_depth=14, rf__criterion=gini, pca__n_components=7, score=0.406, total=   0.4s\n",
      "[CV] rf__n_estimators=200, rf__max_depth=14, rf__criterion=gini, pca__n_components=7 \n",
      "[CV]  rf__n_estimators=200, rf__max_depth=14, rf__criterion=gini, pca__n_components=7, score=0.362, total=   0.4s\n",
      "[CV] rf__n_estimators=200, rf__max_depth=14, rf__criterion=gini, pca__n_components=7 \n",
      "[CV]  rf__n_estimators=200, rf__max_depth=14, rf__criterion=gini, pca__n_components=7, score=0.381, total=   0.4s\n",
      "[CV] rf__n_estimators=200, rf__max_depth=14, rf__criterion=gini, pca__n_components=7 \n",
      "[CV]  rf__n_estimators=200, rf__max_depth=14, rf__criterion=gini, pca__n_components=7, score=0.400, total=   0.4s\n",
      "[CV] rf__n_estimators=200, rf__max_depth=14, rf__criterion=gini, pca__n_components=7 \n",
      "[CV]  rf__n_estimators=200, rf__max_depth=14, rf__criterion=gini, pca__n_components=7, score=0.372, total=   0.4s\n",
      "[CV] rf__n_estimators=400, rf__max_depth=19, rf__criterion=gini, pca__n_components=9 \n",
      "[CV]  rf__n_estimators=400, rf__max_depth=19, rf__criterion=gini, pca__n_components=9, score=0.478, total=   0.7s\n",
      "[CV] rf__n_estimators=400, rf__max_depth=19, rf__criterion=gini, pca__n_components=9 \n",
      "[CV]  rf__n_estimators=400, rf__max_depth=19, rf__criterion=gini, pca__n_components=9, score=0.378, total=   0.7s\n",
      "[CV] rf__n_estimators=400, rf__max_depth=19, rf__criterion=gini, pca__n_components=9 \n",
      "[CV]  rf__n_estimators=400, rf__max_depth=19, rf__criterion=gini, pca__n_components=9, score=0.450, total=   0.7s\n",
      "[CV] rf__n_estimators=400, rf__max_depth=19, rf__criterion=gini, pca__n_components=9 \n",
      "[CV]  rf__n_estimators=400, rf__max_depth=19, rf__criterion=gini, pca__n_components=9, score=0.463, total=   0.6s\n",
      "[CV] rf__n_estimators=400, rf__max_depth=19, rf__criterion=gini, pca__n_components=9 \n",
      "[CV]  rf__n_estimators=400, rf__max_depth=19, rf__criterion=gini, pca__n_components=9, score=0.375, total=   0.7s\n",
      "[CV] rf__n_estimators=300, rf__max_depth=7, rf__criterion=entropy, pca__n_components=9 \n",
      "[CV]  rf__n_estimators=300, rf__max_depth=7, rf__criterion=entropy, pca__n_components=9, score=0.509, total=   0.6s\n",
      "[CV] rf__n_estimators=300, rf__max_depth=7, rf__criterion=entropy, pca__n_components=9 \n",
      "[CV]  rf__n_estimators=300, rf__max_depth=7, rf__criterion=entropy, pca__n_components=9, score=0.375, total=   0.6s\n",
      "[CV] rf__n_estimators=300, rf__max_depth=7, rf__criterion=entropy, pca__n_components=9 \n",
      "[CV]  rf__n_estimators=300, rf__max_depth=7, rf__criterion=entropy, pca__n_components=9, score=0.466, total=   0.6s\n",
      "[CV] rf__n_estimators=300, rf__max_depth=7, rf__criterion=entropy, pca__n_components=9 \n",
      "[CV]  rf__n_estimators=300, rf__max_depth=7, rf__criterion=entropy, pca__n_components=9, score=0.447, total=   0.6s\n",
      "[CV] rf__n_estimators=300, rf__max_depth=7, rf__criterion=entropy, pca__n_components=9 \n",
      "[CV]  rf__n_estimators=300, rf__max_depth=7, rf__criterion=entropy, pca__n_components=9, score=0.419, total=   0.6s\n",
      "[CV] rf__n_estimators=400, rf__max_depth=6, rf__criterion=gini, pca__n_components=5 \n",
      "[CV]  rf__n_estimators=400, rf__max_depth=6, rf__criterion=gini, pca__n_components=5, score=0.350, total=   0.5s\n",
      "[CV] rf__n_estimators=400, rf__max_depth=6, rf__criterion=gini, pca__n_components=5 \n",
      "[CV]  rf__n_estimators=400, rf__max_depth=6, rf__criterion=gini, pca__n_components=5, score=0.294, total=   0.5s\n",
      "[CV] rf__n_estimators=400, rf__max_depth=6, rf__criterion=gini, pca__n_components=5 \n",
      "[CV]  rf__n_estimators=400, rf__max_depth=6, rf__criterion=gini, pca__n_components=5, score=0.344, total=   0.5s\n",
      "[CV] rf__n_estimators=400, rf__max_depth=6, rf__criterion=gini, pca__n_components=5 \n",
      "[CV]  rf__n_estimators=400, rf__max_depth=6, rf__criterion=gini, pca__n_components=5, score=0.347, total=   0.5s\n",
      "[CV] rf__n_estimators=400, rf__max_depth=6, rf__criterion=gini, pca__n_components=5 \n",
      "[CV]  rf__n_estimators=400, rf__max_depth=6, rf__criterion=gini, pca__n_components=5, score=0.319, total=   0.5s\n",
      "[CV] rf__n_estimators=200, rf__max_depth=5, rf__criterion=gini, pca__n_components=9 \n",
      "[CV]  rf__n_estimators=200, rf__max_depth=5, rf__criterion=gini, pca__n_components=9, score=0.503, total=   0.3s\n",
      "[CV] rf__n_estimators=200, rf__max_depth=5, rf__criterion=gini, pca__n_components=9 \n",
      "[CV]  rf__n_estimators=200, rf__max_depth=5, rf__criterion=gini, pca__n_components=9, score=0.397, total=   0.3s\n",
      "[CV] rf__n_estimators=200, rf__max_depth=5, rf__criterion=gini, pca__n_components=9 \n",
      "[CV]  rf__n_estimators=200, rf__max_depth=5, rf__criterion=gini, pca__n_components=9, score=0.444, total=   0.3s\n",
      "[CV] rf__n_estimators=200, rf__max_depth=5, rf__criterion=gini, pca__n_components=9 \n",
      "[CV]  rf__n_estimators=200, rf__max_depth=5, rf__criterion=gini, pca__n_components=9, score=0.469, total=   0.3s\n",
      "[CV] rf__n_estimators=200, rf__max_depth=5, rf__criterion=gini, pca__n_components=9 \n",
      "[CV]  rf__n_estimators=200, rf__max_depth=5, rf__criterion=gini, pca__n_components=9, score=0.416, total=   0.3s\n",
      "[CV] rf__n_estimators=100, rf__max_depth=9, rf__criterion=entropy, pca__n_components=5 \n",
      "[CV]  rf__n_estimators=100, rf__max_depth=9, rf__criterion=entropy, pca__n_components=5, score=0.362, total=   0.2s\n",
      "[CV] rf__n_estimators=100, rf__max_depth=9, rf__criterion=entropy, pca__n_components=5 \n",
      "[CV]  rf__n_estimators=100, rf__max_depth=9, rf__criterion=entropy, pca__n_components=5, score=0.275, total=   0.3s\n",
      "[CV] rf__n_estimators=100, rf__max_depth=9, rf__criterion=entropy, pca__n_components=5 \n",
      "[CV]  rf__n_estimators=100, rf__max_depth=9, rf__criterion=entropy, pca__n_components=5, score=0.322, total=   0.2s\n",
      "[CV] rf__n_estimators=100, rf__max_depth=9, rf__criterion=entropy, pca__n_components=5 \n",
      "[CV]  rf__n_estimators=100, rf__max_depth=9, rf__criterion=entropy, pca__n_components=5, score=0.328, total=   0.2s\n",
      "[CV] rf__n_estimators=100, rf__max_depth=9, rf__criterion=entropy, pca__n_components=5 \n",
      "[CV]  rf__n_estimators=100, rf__max_depth=9, rf__criterion=entropy, pca__n_components=5, score=0.275, total=   0.2s\n",
      "[CV] rf__n_estimators=300, rf__max_depth=15, rf__criterion=gini, pca__n_components=5 \n",
      "[CV]  rf__n_estimators=300, rf__max_depth=15, rf__criterion=gini, pca__n_components=5, score=0.325, total=   0.5s\n",
      "[CV] rf__n_estimators=300, rf__max_depth=15, rf__criterion=gini, pca__n_components=5 \n",
      "[CV]  rf__n_estimators=300, rf__max_depth=15, rf__criterion=gini, pca__n_components=5, score=0.278, total=   0.5s\n",
      "[CV] rf__n_estimators=300, rf__max_depth=15, rf__criterion=gini, pca__n_components=5 \n",
      "[CV]  rf__n_estimators=300, rf__max_depth=15, rf__criterion=gini, pca__n_components=5, score=0.369, total=   0.5s\n",
      "[CV] rf__n_estimators=300, rf__max_depth=15, rf__criterion=gini, pca__n_components=5 \n",
      "[CV]  rf__n_estimators=300, rf__max_depth=15, rf__criterion=gini, pca__n_components=5, score=0.350, total=   0.5s\n",
      "[CV] rf__n_estimators=300, rf__max_depth=15, rf__criterion=gini, pca__n_components=5 \n",
      "[CV]  rf__n_estimators=300, rf__max_depth=15, rf__criterion=gini, pca__n_components=5, score=0.294, total=   0.5s\n"
     ]
    },
    {
     "name": "stderr",
     "output_type": "stream",
     "text": [
      "[Parallel(n_jobs=1)]: Done  50 out of  50 | elapsed:   26.8s finished\n"
     ]
    },
    {
     "data": {
      "text/plain": [
       "RandomizedSearchCV(cv=5,\n",
       "                   estimator=Pipeline(steps=[('scaling', StandardScaler()),\n",
       "                                             ('pca', PCA()),\n",
       "                                             ('rf',\n",
       "                                              RandomForestClassifier(n_jobs=-1))]),\n",
       "                   n_jobs=1,\n",
       "                   param_distributions={'pca__n_components': array([5, 6, 7, 8, 9]),\n",
       "                                        'rf__criterion': ['gini', 'entropy'],\n",
       "                                        'rf__max_depth': array([ 1,  2,  3,  4,  5,  6,  7,  8,  9, 10, 11, 12, 13, 14, 15, 16, 17,\n",
       "       18, 19]),\n",
       "                                        'rf__n_estimators': array([100, 200, 300, 400])},\n",
       "                   scoring='accuracy', verbose=10)"
      ]
     },
     "execution_count": 18,
     "metadata": {},
     "output_type": "execute_result"
    }
   ],
   "source": [
    "classfier = pipeline.Pipeline([\n",
    "    (\"scaling\", scl),\n",
    "    (\"pca\", pca),\n",
    "    (\"rf\", rf)\n",
    "])\n",
    "\n",
    "param_grid = {\n",
    "    #Put the parameters here--- In this case use two underscores \n",
    "    \"pca__n_components\": np.arange(5, 10),\n",
    "    \"rf__n_estimators\": np.arange(100, 500, 100),\n",
    "    \"rf__max_depth\": np.arange(1, 20),\n",
    "    \"rf__criterion\": [\"gini\", \"entropy\"]\n",
    "}\n",
    "\n",
    "# Implementing GridSearch\n",
    "model = model_selection.RandomizedSearchCV( #Can be changed to GridSearch\n",
    "    estimator = classfier,\n",
    "    param_distributions = param_grid,\n",
    "    scoring = \"accuracy\",\n",
    "    n_iter = 10,\n",
    "    verbose = 10,\n",
    "    n_jobs = 1,\n",
    "    cv = 5,\n",
    ")\n",
    "model.fit(X_train, y_train)"
   ]
  },
  {
   "cell_type": "code",
   "execution_count": 19,
   "metadata": {},
   "outputs": [
    {
     "name": "stdout",
     "output_type": "stream",
     "text": [
      "0.4462499999999999\n",
      "{'memory': None, 'steps': [('scaling', StandardScaler()), ('pca', PCA(n_components=9)), ('rf', RandomForestClassifier(max_depth=4, n_estimators=300, n_jobs=-1))], 'verbose': False, 'scaling': StandardScaler(), 'pca': PCA(n_components=9), 'rf': RandomForestClassifier(max_depth=4, n_estimators=300, n_jobs=-1), 'scaling__copy': True, 'scaling__with_mean': True, 'scaling__with_std': True, 'pca__copy': True, 'pca__iterated_power': 'auto', 'pca__n_components': 9, 'pca__random_state': None, 'pca__svd_solver': 'auto', 'pca__tol': 0.0, 'pca__whiten': False, 'rf__bootstrap': True, 'rf__ccp_alpha': 0.0, 'rf__class_weight': None, 'rf__criterion': 'gini', 'rf__max_depth': 4, 'rf__max_features': 'auto', 'rf__max_leaf_nodes': None, 'rf__max_samples': None, 'rf__min_impurity_decrease': 0.0, 'rf__min_impurity_split': None, 'rf__min_samples_leaf': 1, 'rf__min_samples_split': 2, 'rf__min_weight_fraction_leaf': 0.0, 'rf__n_estimators': 300, 'rf__n_jobs': -1, 'rf__oob_score': False, 'rf__random_state': None, 'rf__verbose': 0, 'rf__warm_start': False}\n"
     ]
    }
   ],
   "source": [
    "# Printing best accuracy score because labels are equally divided and the estimators\n",
    "print(model.best_score_)\n",
    "print(model.best_estimator_.get_params())"
   ]
  },
  {
   "cell_type": "code",
   "execution_count": 20,
   "metadata": {},
   "outputs": [
    {
     "data": {
      "text/plain": [
       "0.8825"
      ]
     },
     "execution_count": 20,
     "metadata": {},
     "output_type": "execute_result"
    }
   ],
   "source": [
    "#Fine tuned model\n",
    "clf = ensemble.RandomForestClassifier()\n",
    "clf.fit(X_train, y_train)\n",
    "y_pred = clf.predict(X_test)\n",
    "\n",
    "#Printing model accuracy\n",
    "pipelineAcc= metrics.accuracy_score(y_test,y_pred)\n",
    "pipelineAcc"
   ]
  },
  {
   "cell_type": "markdown",
   "metadata": {},
   "source": [
    "<div class=\"list-group\" id=\"list-tab\" role=\"tablist\">\n",
    "<h4 class=\"list-group-item list-group-item-action active\" data-toggle=\"list\" style='background:gray; border:0' role=\"tab\" aria-controls=\"home\"><center>Bayseian Optimization with Gaussian Process</center></h4>"
   ]
  },
  {
   "cell_type": "code",
   "execution_count": 40,
   "metadata": {},
   "outputs": [],
   "source": [
    "def optimize(params, param_names, X, y):\n",
    "    params = dict(zip(param_names, params))\n",
    "    model = ensemble.RandomForestClassifier(**params)\n",
    "    kf = model_selection.StratifiedKFold(n_splits = 5)\n",
    "    accuracies = []\n",
    "    for idx in kf.split(X=X, y=y):\n",
    "        train_idx, test_idx = idx[0], idx[1]\n",
    "        xtrain = X[train_idx]\n",
    "        ytrain = y[train_idx]\n",
    "        \n",
    "        xtest = X[test_idx]\n",
    "        ytest = y[test_idx]\n",
    "        \n",
    "        model.fit(xtrain, ytrain)\n",
    "        preds = model.predict(xtest)\n",
    "        fold_acc = metrics.accuracy_score(ytest, preds)\n",
    "        accuracies.append(fold_acc)\n",
    "        \n",
    "        return -1.0 * np.mean(accuracies)"
   ]
  },
  {
   "cell_type": "code",
   "execution_count": 45,
   "metadata": {},
   "outputs": [
    {
     "name": "stdout",
     "output_type": "stream",
     "text": [
      "Iteration No: 1 started. Evaluating function at random point.\n",
      "Iteration No: 1 ended. Evaluation done at random point.\n",
      "Time taken: 5.1694\n",
      "Function value obtained: -0.9200\n",
      "Current minimum: -0.9200\n",
      "Iteration No: 2 started. Evaluating function at random point.\n",
      "Iteration No: 2 ended. Evaluation done at random point.\n",
      "Time taken: 1.3031\n",
      "Function value obtained: -0.8975\n",
      "Current minimum: -0.9200\n",
      "Iteration No: 3 started. Evaluating function at random point.\n",
      "Iteration No: 3 ended. Evaluation done at random point.\n",
      "Time taken: 2.4082\n",
      "Function value obtained: -0.8975\n",
      "Current minimum: -0.9200\n",
      "Iteration No: 4 started. Evaluating function at random point.\n",
      "Iteration No: 4 ended. Evaluation done at random point.\n",
      "Time taken: 2.5582\n",
      "Function value obtained: -0.9100\n",
      "Current minimum: -0.9200\n",
      "Iteration No: 5 started. Evaluating function at random point.\n",
      "Iteration No: 5 ended. Evaluation done at random point.\n",
      "Time taken: 0.7091\n",
      "Function value obtained: -0.8950\n",
      "Current minimum: -0.9200\n",
      "Iteration No: 6 started. Evaluating function at random point.\n",
      "Iteration No: 6 ended. Evaluation done at random point.\n",
      "Time taken: 1.1380\n",
      "Function value obtained: -0.7925\n",
      "Current minimum: -0.9200\n",
      "Iteration No: 7 started. Evaluating function at random point.\n",
      "Iteration No: 7 ended. Evaluation done at random point.\n",
      "Time taken: 0.6991\n",
      "Function value obtained: -0.7400\n",
      "Current minimum: -0.9200\n",
      "Iteration No: 8 started. Evaluating function at random point.\n",
      "Iteration No: 8 ended. Evaluation done at random point.\n",
      "Time taken: 3.0905\n",
      "Function value obtained: -0.8950\n",
      "Current minimum: -0.9200\n",
      "Iteration No: 9 started. Evaluating function at random point.\n",
      "Iteration No: 9 ended. Evaluation done at random point.\n",
      "Time taken: 0.7701\n",
      "Function value obtained: -0.8400\n",
      "Current minimum: -0.9200\n",
      "Iteration No: 10 started. Evaluating function at random point.\n",
      "Iteration No: 10 ended. Evaluation done at random point.\n",
      "Time taken: 3.2810\n",
      "Function value obtained: -0.8875\n",
      "Current minimum: -0.9200\n"
     ]
    },
    {
     "ename": "AttributeError",
     "evalue": "X",
     "output_type": "error",
     "traceback": [
      "\u001b[1;31m---------------------------------------------------------------------------\u001b[0m",
      "\u001b[1;31mKeyError\u001b[0m                                  Traceback (most recent call last)",
      "\u001b[1;32mC:\\ProgramData\\Anaconda3\\lib\\site-packages\\scipy\\optimize\\optimize.py\u001b[0m in \u001b[0;36m__getattr__\u001b[1;34m(self, name)\u001b[0m\n\u001b[0;32m    121\u001b[0m         \u001b[1;32mtry\u001b[0m\u001b[1;33m:\u001b[0m\u001b[1;33m\u001b[0m\u001b[1;33m\u001b[0m\u001b[0m\n\u001b[1;32m--> 122\u001b[1;33m             \u001b[1;32mreturn\u001b[0m \u001b[0mself\u001b[0m\u001b[1;33m[\u001b[0m\u001b[0mname\u001b[0m\u001b[1;33m]\u001b[0m\u001b[1;33m\u001b[0m\u001b[1;33m\u001b[0m\u001b[0m\n\u001b[0m\u001b[0;32m    123\u001b[0m         \u001b[1;32mexcept\u001b[0m \u001b[0mKeyError\u001b[0m\u001b[1;33m:\u001b[0m\u001b[1;33m\u001b[0m\u001b[1;33m\u001b[0m\u001b[0m\n",
      "\u001b[1;31mKeyError\u001b[0m: 'X'",
      "\nDuring handling of the above exception, another exception occurred:\n",
      "\u001b[1;31mAttributeError\u001b[0m                            Traceback (most recent call last)",
      "\u001b[1;32m<ipython-input-45-f6ae72d1cc1d>\u001b[0m in \u001b[0;36m<module>\u001b[1;34m\u001b[0m\n\u001b[0;32m     29\u001b[0m \u001b[1;33m\u001b[0m\u001b[0m\n\u001b[0;32m     30\u001b[0m print(\n\u001b[1;32m---> 31\u001b[1;33m     \u001b[0mdict\u001b[0m\u001b[1;33m(\u001b[0m\u001b[0mzip\u001b[0m\u001b[1;33m(\u001b[0m\u001b[0mparam_names\u001b[0m\u001b[1;33m,\u001b[0m \u001b[0mresult\u001b[0m\u001b[1;33m.\u001b[0m\u001b[0mX\u001b[0m\u001b[1;33m)\u001b[0m\u001b[1;33m)\u001b[0m\u001b[1;33m\u001b[0m\u001b[1;33m\u001b[0m\u001b[0m\n\u001b[0m\u001b[0;32m     32\u001b[0m )\n",
      "\u001b[1;32mC:\\ProgramData\\Anaconda3\\lib\\site-packages\\scipy\\optimize\\optimize.py\u001b[0m in \u001b[0;36m__getattr__\u001b[1;34m(self, name)\u001b[0m\n\u001b[0;32m    122\u001b[0m             \u001b[1;32mreturn\u001b[0m \u001b[0mself\u001b[0m\u001b[1;33m[\u001b[0m\u001b[0mname\u001b[0m\u001b[1;33m]\u001b[0m\u001b[1;33m\u001b[0m\u001b[1;33m\u001b[0m\u001b[0m\n\u001b[0;32m    123\u001b[0m         \u001b[1;32mexcept\u001b[0m \u001b[0mKeyError\u001b[0m\u001b[1;33m:\u001b[0m\u001b[1;33m\u001b[0m\u001b[1;33m\u001b[0m\u001b[0m\n\u001b[1;32m--> 124\u001b[1;33m             \u001b[1;32mraise\u001b[0m \u001b[0mAttributeError\u001b[0m\u001b[1;33m(\u001b[0m\u001b[0mname\u001b[0m\u001b[1;33m)\u001b[0m\u001b[1;33m\u001b[0m\u001b[1;33m\u001b[0m\u001b[0m\n\u001b[0m\u001b[0;32m    125\u001b[0m \u001b[1;33m\u001b[0m\u001b[0m\n\u001b[0;32m    126\u001b[0m     \u001b[0m__setattr__\u001b[0m \u001b[1;33m=\u001b[0m \u001b[0mdict\u001b[0m\u001b[1;33m.\u001b[0m\u001b[0m__setitem__\u001b[0m\u001b[1;33m\u001b[0m\u001b[1;33m\u001b[0m\u001b[0m\n",
      "\u001b[1;31mAttributeError\u001b[0m: X"
     ]
    }
   ],
   "source": [
    "param_space = [\n",
    "    space.Integer(3, 15, name = \"max_depth\"),\n",
    "    space.Integer(100, 600, name = \"n_estimators\"),\n",
    "    space.Categorical([\"gini\", \"entropy\"], name = \"criterion\"),\n",
    "    space.Real(0.01, 1, prior = \"uniform\", name = \"max_features\")\n",
    "]\n",
    "\n",
    "param_names = [\n",
    "    \"max_depth\",\n",
    "    \"n_estimators\",\n",
    "    \"criterion\",\n",
    "    \"max_features\"\n",
    "]\n",
    "\n",
    "optimization_function = partial(\n",
    "    optimize,\n",
    "    param_names=param_names,\n",
    "    X=X,\n",
    "    y=y\n",
    ")\n",
    "\n",
    "result = gp_minimize(\n",
    "    optimization_function,\n",
    "    dimensions = param_space,\n",
    "    n_calls = 15,\n",
    "    n_random_starts = 10,\n",
    "    verbose = 10,\n",
    ")\n",
    "\n",
    "print(\n",
    "    dict(zip(param_names, result.X))\n",
    ")"
   ]
  },
  {
   "cell_type": "markdown",
   "metadata": {},
   "source": [
    "<div class=\"list-group\" id=\"list-tab\" role=\"tablist\">\n",
    "<h4 class=\"list-group-item list-group-item-action active\" data-toggle=\"list\" style='background:gray; border:0' role=\"tab\" aria-controls=\"home\"><center>Optuna</center></h4>"
   ]
  },
  {
   "cell_type": "code",
   "execution_count": 68,
   "metadata": {},
   "outputs": [],
   "source": [
    "def optimize(trial, X, y):\n",
    "    \n",
    "    criterion = trial.suggest_categorical(\"criterion\", [\"gini\", \"entropy\"])\n",
    "    n_estimators = trial.suggest_int(\"n_estimators\", 100, 1500)\n",
    "    max_depth = trial.suggest_int(\"max_depth\", 3, 15)\n",
    "    max_features = trial.suggest_uniform(\"max_features\", 0.01, 1.0)\n",
    "    model = ensemble.RandomForestClassifier(\n",
    "        n_estimators = n_estimators,\n",
    "        max_depth = max_depth,\n",
    "        max_features = max_features,\n",
    "        criterion = criterion,\n",
    "    )\n",
    "    kf = model_selection.StratifiedKFold(n_splits = 5)\n",
    "    accuracies = []\n",
    "    for idx in kf.split(X=X, y=y):\n",
    "        train_idx, test_idx = idx[0], idx[1]\n",
    "        xtrain = X[train_idx]\n",
    "        ytrain = y[train_idx]\n",
    "        \n",
    "        xtest = X[test_idx]\n",
    "        ytest = y[test_idx]\n",
    "        \n",
    "        model.fit(xtrain, ytrain)\n",
    "        preds = model.predict(xtest)\n",
    "        fold_acc = metrics.accuracy_score(ytest, preds)\n",
    "        accuracies.append(fold_acc)\n",
    "        \n",
    "        return -1.0 * np.mean(accuracies)"
   ]
  },
  {
   "cell_type": "code",
   "execution_count": 69,
   "metadata": {},
   "outputs": [
    {
     "name": "stderr",
     "output_type": "stream",
     "text": [
      "\u001b[32m[I 2021-02-10 22:34:47,222]\u001b[0m A new study created in memory with name: no-name-42c8b070-eb0e-4c63-9c99-25d23e240310\u001b[0m\n",
      "\u001b[32m[I 2021-02-10 22:34:49,943]\u001b[0m Trial 0 finished with value: -0.915 and parameters: {'criterion': 'entropy', 'n_estimators': 406, 'max_depth': 15, 'max_features': 0.6238888037615989}. Best is trial 0 with value: -0.915.\u001b[0m\n",
      "\u001b[32m[I 2021-02-10 22:34:54,546]\u001b[0m Trial 1 finished with value: -0.8975 and parameters: {'criterion': 'gini', 'n_estimators': 1156, 'max_depth': 13, 'max_features': 0.35286140785954856}. Best is trial 0 with value: -0.915.\u001b[0m\n",
      "\u001b[32m[I 2021-02-10 22:34:56,789]\u001b[0m Trial 2 finished with value: -0.8475 and parameters: {'criterion': 'entropy', 'n_estimators': 600, 'max_depth': 14, 'max_features': 0.11263493325609157}. Best is trial 0 with value: -0.915.\u001b[0m\n",
      "\u001b[32m[I 2021-02-10 22:34:59,364]\u001b[0m Trial 3 finished with value: -0.825 and parameters: {'criterion': 'gini', 'n_estimators': 804, 'max_depth': 10, 'max_features': 0.1133684072823349}. Best is trial 0 with value: -0.915.\u001b[0m\n",
      "\u001b[32m[I 2021-02-10 22:35:00,663]\u001b[0m Trial 4 finished with value: -0.9 and parameters: {'criterion': 'entropy', 'n_estimators': 156, 'max_depth': 6, 'max_features': 0.7659388503629259}. Best is trial 0 with value: -0.915.\u001b[0m\n",
      "\u001b[32m[I 2021-02-10 22:35:01,967]\u001b[0m Trial 5 finished with value: -0.89 and parameters: {'criterion': 'entropy', 'n_estimators': 244, 'max_depth': 12, 'max_features': 0.22904849625975054}. Best is trial 0 with value: -0.915.\u001b[0m\n",
      "\u001b[32m[I 2021-02-10 22:35:05,071]\u001b[0m Trial 6 finished with value: -0.9175 and parameters: {'criterion': 'entropy', 'n_estimators': 291, 'max_depth': 15, 'max_features': 0.8791346445309057}. Best is trial 6 with value: -0.9175.\u001b[0m\n",
      "\u001b[32m[I 2021-02-10 22:35:12,968]\u001b[0m Trial 7 finished with value: -0.9 and parameters: {'criterion': 'gini', 'n_estimators': 1210, 'max_depth': 8, 'max_features': 0.665564775579418}. Best is trial 6 with value: -0.9175.\u001b[0m\n",
      "\u001b[32m[I 2021-02-10 22:35:18,910]\u001b[0m Trial 8 finished with value: -0.92 and parameters: {'criterion': 'entropy', 'n_estimators': 550, 'max_depth': 14, 'max_features': 0.9935136360527581}. Best is trial 8 with value: -0.92.\u001b[0m\n",
      "\u001b[32m[I 2021-02-10 22:35:21,044]\u001b[0m Trial 9 finished with value: -0.7975 and parameters: {'criterion': 'gini', 'n_estimators': 544, 'max_depth': 3, 'max_features': 0.6692648367056259}. Best is trial 8 with value: -0.92.\u001b[0m\n",
      "\u001b[32m[I 2021-02-10 22:35:30,515]\u001b[0m Trial 10 finished with value: -0.9125 and parameters: {'criterion': 'entropy', 'n_estimators': 910, 'max_depth': 11, 'max_features': 0.9499921512553887}. Best is trial 8 with value: -0.92.\u001b[0m\n",
      "\u001b[32m[I 2021-02-10 22:35:34,425]\u001b[0m Trial 11 finished with value: -0.9125 and parameters: {'criterion': 'entropy', 'n_estimators': 347, 'max_depth': 15, 'max_features': 0.9864484669929627}. Best is trial 8 with value: -0.92.\u001b[0m\n",
      "\u001b[32m[I 2021-02-10 22:35:35,620]\u001b[0m Trial 12 finished with value: -0.915 and parameters: {'criterion': 'entropy', 'n_estimators': 105, 'max_depth': 15, 'max_features': 0.8816447736590263}. Best is trial 8 with value: -0.92.\u001b[0m\n",
      "\u001b[32m[I 2021-02-10 22:35:41,078]\u001b[0m Trial 13 finished with value: -0.9175 and parameters: {'criterion': 'entropy', 'n_estimators': 568, 'max_depth': 8, 'max_features': 0.8553376670949091}. Best is trial 8 with value: -0.92.\u001b[0m\n",
      "\u001b[32m[I 2021-02-10 22:35:51,657]\u001b[0m Trial 14 finished with value: -0.9075 and parameters: {'criterion': 'entropy', 'n_estimators': 1470, 'max_depth': 13, 'max_features': 0.47382026981721675}. Best is trial 8 with value: -0.92.\u001b[0m\n"
     ]
    }
   ],
   "source": [
    "optimization_function = partial(optimize, X=X, y=y)\n",
    "study = optuna.create_study(direction = \"minimize\")\n",
    "study.optimize(optimization_function, n_trials = 15)"
   ]
  },
  {
   "cell_type": "code",
   "execution_count": null,
   "metadata": {},
   "outputs": [],
   "source": []
  }
 ],
 "metadata": {
  "kernelspec": {
   "display_name": "Python 3",
   "language": "python",
   "name": "python3"
  },
  "language_info": {
   "codemirror_mode": {
    "name": "ipython",
    "version": 3
   },
   "file_extension": ".py",
   "mimetype": "text/x-python",
   "name": "python",
   "nbconvert_exporter": "python",
   "pygments_lexer": "ipython3",
   "version": "3.8.5"
  }
 },
 "nbformat": 4,
 "nbformat_minor": 4
}
